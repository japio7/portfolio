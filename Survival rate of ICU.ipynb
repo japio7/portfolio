{
 "cells": [
  {
   "cell_type": "markdown",
   "metadata": {},
   "source": [
    "# Classification\n",
    "## Decision Tree, Random Forest"
   ]
  },
  {
   "cell_type": "code",
   "execution_count": 1,
   "metadata": {},
   "outputs": [],
   "source": [
    "import numpy as np\n",
    "import pandas as pd\n",
    "from sklearn.model_selection import train_test_split\n",
    "from sklearn.tree import DecisionTreeClassifier\n",
    "from sklearn.ensemble import RandomForestClassifier\n",
    "from sklearn import metrics\n",
    "import matplotlib.pyplot as plt\n",
    "import seaborn as sns"
   ]
  },
  {
   "cell_type": "code",
   "execution_count": 2,
   "metadata": {},
   "outputs": [
    {
     "data": {
      "text/html": [
       "<div>\n",
       "<style scoped>\n",
       "    .dataframe tbody tr th:only-of-type {\n",
       "        vertical-align: middle;\n",
       "    }\n",
       "\n",
       "    .dataframe tbody tr th {\n",
       "        vertical-align: top;\n",
       "    }\n",
       "\n",
       "    .dataframe thead th {\n",
       "        text-align: right;\n",
       "    }\n",
       "</style>\n",
       "<table border=\"1\" class=\"dataframe\">\n",
       "  <thead>\n",
       "    <tr style=\"text-align: right;\">\n",
       "      <th></th>\n",
       "      <th>ID</th>\n",
       "      <th>Survive</th>\n",
       "      <th>Age</th>\n",
       "      <th>AgeGroup</th>\n",
       "      <th>Sex</th>\n",
       "      <th>Infection</th>\n",
       "      <th>SysBP</th>\n",
       "      <th>Pulse</th>\n",
       "      <th>Emergency</th>\n",
       "    </tr>\n",
       "  </thead>\n",
       "  <tbody>\n",
       "    <tr>\n",
       "      <th>0</th>\n",
       "      <td>4</td>\n",
       "      <td>0</td>\n",
       "      <td>87</td>\n",
       "      <td>3</td>\n",
       "      <td>1</td>\n",
       "      <td>1</td>\n",
       "      <td>80</td>\n",
       "      <td>96</td>\n",
       "      <td>1</td>\n",
       "    </tr>\n",
       "    <tr>\n",
       "      <th>1</th>\n",
       "      <td>8</td>\n",
       "      <td>1</td>\n",
       "      <td>27</td>\n",
       "      <td>1</td>\n",
       "      <td>1</td>\n",
       "      <td>1</td>\n",
       "      <td>142</td>\n",
       "      <td>88</td>\n",
       "      <td>1</td>\n",
       "    </tr>\n",
       "    <tr>\n",
       "      <th>2</th>\n",
       "      <td>12</td>\n",
       "      <td>1</td>\n",
       "      <td>59</td>\n",
       "      <td>2</td>\n",
       "      <td>0</td>\n",
       "      <td>0</td>\n",
       "      <td>112</td>\n",
       "      <td>80</td>\n",
       "      <td>1</td>\n",
       "    </tr>\n",
       "    <tr>\n",
       "      <th>3</th>\n",
       "      <td>14</td>\n",
       "      <td>1</td>\n",
       "      <td>77</td>\n",
       "      <td>3</td>\n",
       "      <td>0</td>\n",
       "      <td>0</td>\n",
       "      <td>100</td>\n",
       "      <td>70</td>\n",
       "      <td>0</td>\n",
       "    </tr>\n",
       "    <tr>\n",
       "      <th>4</th>\n",
       "      <td>27</td>\n",
       "      <td>0</td>\n",
       "      <td>76</td>\n",
       "      <td>3</td>\n",
       "      <td>1</td>\n",
       "      <td>1</td>\n",
       "      <td>128</td>\n",
       "      <td>90</td>\n",
       "      <td>1</td>\n",
       "    </tr>\n",
       "  </tbody>\n",
       "</table>\n",
       "</div>"
      ],
      "text/plain": [
       "   ID  Survive  Age  AgeGroup  Sex  Infection  SysBP  Pulse  Emergency\n",
       "0   4        0   87         3    1          1     80     96          1\n",
       "1   8        1   27         1    1          1    142     88          1\n",
       "2  12        1   59         2    0          0    112     80          1\n",
       "3  14        1   77         3    0          0    100     70          0\n",
       "4  27        0   76         3    1          1    128     90          1"
      ]
     },
     "execution_count": 2,
     "metadata": {},
     "output_type": "execute_result"
    }
   ],
   "source": [
    "icu = pd.read_csv(\"https://vincentarelbundock.github.io/Rdatasets/csv/Stat2Data/ICU.csv\").iloc[:,1:]\n",
    "icu.head()"
   ]
  },
  {
   "cell_type": "code",
   "execution_count": 3,
   "metadata": {},
   "outputs": [
    {
     "data": {
      "text/plain": [
       "ID           int64\n",
       "Survive      int64\n",
       "Age          int64\n",
       "AgeGroup     int64\n",
       "Sex          int64\n",
       "Infection    int64\n",
       "SysBP        int64\n",
       "Pulse        int64\n",
       "Emergency    int64\n",
       "dtype: object"
      ]
     },
     "execution_count": 3,
     "metadata": {},
     "output_type": "execute_result"
    }
   ],
   "source": [
    "# Check data types\n",
    "icu.dtypes"
   ]
  },
  {
   "cell_type": "code",
   "execution_count": 4,
   "metadata": {},
   "outputs": [
    {
     "data": {
      "text/plain": [
       "ID           0\n",
       "Survive      0\n",
       "Age          0\n",
       "AgeGroup     0\n",
       "Sex          0\n",
       "Infection    0\n",
       "SysBP        0\n",
       "Pulse        0\n",
       "Emergency    0\n",
       "dtype: int64"
      ]
     },
     "execution_count": 4,
     "metadata": {},
     "output_type": "execute_result"
    }
   ],
   "source": [
    "# Check for missing values\n",
    "icu.isna().sum()"
   ]
  },
  {
   "cell_type": "code",
   "execution_count": 5,
   "metadata": {},
   "outputs": [],
   "source": [
    "# Split the data\n",
    "X = icu.iloc[:,2:]\n",
    "y = icu[\"Survive\"]\n",
    "X_train, X_test, y_train, y_test = train_test_split(X, y, test_size=0.3)"
   ]
  },
  {
   "cell_type": "code",
   "execution_count": 6,
   "metadata": {},
   "outputs": [],
   "source": [
    "# Decision Tree\n",
    "clf_dt = DecisionTreeClassifier()\n",
    "clf_dt = clf_dt.fit(X_train, y_train)"
   ]
  },
  {
   "cell_type": "code",
   "execution_count": 7,
   "metadata": {},
   "outputs": [
    {
     "data": {
      "text/plain": [
       "RandomForestClassifier()"
      ]
     },
     "execution_count": 7,
     "metadata": {},
     "output_type": "execute_result"
    }
   ],
   "source": [
    "# Random Forest\n",
    "clf_rf = RandomForestClassifier()\n",
    "clf_rf.fit(X_train, y_train)"
   ]
  },
  {
   "cell_type": "markdown",
   "metadata": {},
   "source": [
    "Let's tune the hyperparameter 'max_depth' using a decision tree."
   ]
  },
  {
   "cell_type": "code",
   "execution_count": 8,
   "metadata": {},
   "outputs": [
    {
     "data": {
      "text/plain": [
       "{'ccp_alpha': 0.0,\n",
       " 'class_weight': None,\n",
       " 'criterion': 'gini',\n",
       " 'max_depth': None,\n",
       " 'max_features': None,\n",
       " 'max_leaf_nodes': None,\n",
       " 'min_impurity_decrease': 0.0,\n",
       " 'min_impurity_split': None,\n",
       " 'min_samples_leaf': 1,\n",
       " 'min_samples_split': 2,\n",
       " 'min_weight_fraction_leaf': 0.0,\n",
       " 'presort': 'deprecated',\n",
       " 'random_state': None,\n",
       " 'splitter': 'best'}"
      ]
     },
     "execution_count": 8,
     "metadata": {},
     "output_type": "execute_result"
    }
   ],
   "source": [
    "# Hyper Parameter tuning\n",
    "# Decission Tree\n",
    "clf_dt.get_params()"
   ]
  },
  {
   "cell_type": "code",
   "execution_count": 9,
   "metadata": {},
   "outputs": [
    {
     "data": {
      "text/plain": [
       "12"
      ]
     },
     "execution_count": 9,
     "metadata": {},
     "output_type": "execute_result"
    }
   ],
   "source": [
    "clf_dt.tree_.max_depth"
   ]
  },
  {
   "cell_type": "code",
   "execution_count": 10,
   "metadata": {},
   "outputs": [
    {
     "name": "stdout",
     "output_type": "stream",
     "text": [
      "Best Depth:\t1\n",
      "Min Error Rate:\t0.16666666666666663\n"
     ]
    },
    {
     "data": {
      "image/png": "[encoded data removed]",
      "text/plain": [
       "<Figure size 360x360 with 1 Axes>"
      ]
     },
     "metadata": {
      "needs_background": "light"
     },
     "output_type": "display_data"
    }
   ],
   "source": [
    "best_depth = 0\n",
    "min_error = 1\n",
    "error_rates = []\n",
    "depths = []\n",
    "for i in range(1, clf_dt.tree_.max_depth+1):\n",
    "    clf = DecisionTreeClassifier(max_depth=i)\n",
    "    clf = clf.fit(X_train, y_train)\n",
    "    y_test_pred = clf.predict(X_test)\n",
    "    error_rates.append(metrics.zero_one_loss(y_test, y_test_pred))\n",
    "    depths.append(i)\n",
    "    if metrics.zero_one_loss(y_test, y_test_pred) < min_error:\n",
    "        best_depth = i\n",
    "        min_error = metrics.zero_one_loss(y_test, y_test_pred)\n",
    "\n",
    "sns.relplot(x=depths, y=error_rates, kind=\"line\")\n",
    "plt.title(\"Error Rate VS Maximum Depth\")\n",
    "plt.ylabel(\"Error Rate\")\n",
    "plt.xlabel(\"Maximum Depth\")\n",
    "plt.grid()\n",
    "\n",
    "print(f\"Best Depth:\\t{best_depth}\")\n",
    "print(f\"Min Error Rate:\\t{error_rates[np.argmin(error_rates)]}\")"
   ]
  },
  {
   "cell_type": "markdown",
   "metadata": {},
   "source": [
    "Let's tune the hyperparameter 'n_estimators' using a random forest."
   ]
  },
  {
   "cell_type": "code",
   "execution_count": 11,
   "metadata": {},
   "outputs": [
    {
     "data": {
      "text/plain": [
       "{'bootstrap': True,\n",
       " 'ccp_alpha': 0.0,\n",
       " 'class_weight': None,\n",
       " 'criterion': 'gini',\n",
       " 'max_depth': None,\n",
       " 'max_features': 'auto',\n",
       " 'max_leaf_nodes': None,\n",
       " 'max_samples': None,\n",
       " 'min_impurity_decrease': 0.0,\n",
       " 'min_impurity_split': None,\n",
       " 'min_samples_leaf': 1,\n",
       " 'min_samples_split': 2,\n",
       " 'min_weight_fraction_leaf': 0.0,\n",
       " 'n_estimators': 100,\n",
       " 'n_jobs': None,\n",
       " 'oob_score': False,\n",
       " 'random_state': None,\n",
       " 'verbose': 0,\n",
       " 'warm_start': False}"
      ]
     },
     "execution_count": 11,
     "metadata": {},
     "output_type": "execute_result"
    }
   ],
   "source": [
    "# Random Forest\n",
    "clf_rf.get_params()"
   ]
  },
  {
   "cell_type": "code",
   "execution_count": 12,
   "metadata": {
    "scrolled": false
   },
   "outputs": [
    {
     "name": "stdout",
     "output_type": "stream",
     "text": [
      "Best Num Estimators:\t7\n",
      "Min Error Rate:\t\t0.1166666666666667\n"
     ]
    },
    {
     "data": {
      "image/png": "[encoded data removed]",
      "text/plain": [
       "<Figure size 360x360 with 1 Axes>"
      ]
     },
     "metadata": {
      "needs_background": "light"
     },
     "output_type": "display_data"
    }
   ],
   "source": [
    "best_num_est = 0\n",
    "min_error = 1\n",
    "error_rates = []\n",
    "num_estimators = []\n",
    "for i in range(1, clf_rf.n_estimators+1):\n",
    "    clf_rf = RandomForestClassifier(n_estimators=i, random_state=0)\n",
    "    clf_rf.fit(X_train, y_train)\n",
    "    y_test_pred = clf_rf.predict(X_test)\n",
    "    error_rates.append(metrics.zero_one_loss(y_test, y_test_pred))\n",
    "    num_estimators.append(i)\n",
    "    if metrics.zero_one_loss(y_test, y_test_pred) < min_error:\n",
    "        best_num_est = i\n",
    "        min_error = metrics.zero_one_loss(y_test, y_test_pred)\n",
    "\n",
    "sns.relplot(x=num_estimators, y=error_rates, kind=\"line\")\n",
    "plt.title(\"Error Rate VS n_estimators\")\n",
    "plt.ylabel(\"Error Rate\")\n",
    "plt.xlabel(\"n_estimators\")\n",
    "plt.grid()\n",
    "\n",
    "print(f\"Best Num Estimators:\\t{best_num_est}\")\n",
    "print(f\"Min Error Rate:\\t\\t{error_rates[np.argmin(error_rates)]}\")"
   ]
  },
  {
   "cell_type": "code",
   "execution_count": 13,
   "metadata": {},
   "outputs": [
    {
     "name": "stdout",
     "output_type": "stream",
     "text": [
      "Decision Tree Accuracy:\t0.8333333333333334\n",
      "Random Forest Accuracy:\t0.8833333333333333\n"
     ]
    }
   ],
   "source": [
    "# Accuracy Score\n",
    "clf_dt = DecisionTreeClassifier(max_depth=best_depth)\n",
    "clf_dt.fit(X_train, y_train)\n",
    "y_test_pred = clf_dt.predict(X_test)\n",
    "print(f\"Decision Tree Accuracy:\\t{metrics.accuracy_score(y_test, y_test_pred)}\")\n",
    "\n",
    "clf_rf = RandomForestClassifier(n_estimators=best_num_est, random_state=0)\n",
    "clf_rf.fit(X_train, y_train)\n",
    "y_test_pred = clf_rf.predict(X_test)\n",
    "print(f\"Random Forest Accuracy:\\t{metrics.accuracy_score(y_test, y_test_pred)}\")"
   ]
  },
  {
   "cell_type": "markdown",
   "metadata": {},
   "source": [
    "### Conclusion"
   ]
  },
  {
   "cell_type": "markdown",
   "metadata": {},
   "source": [
    "Yes, surviving ICU can be predicted by using a random forest model and a decision tree model. Both models are similar in terms of accuracy and can both be used to predict the survival rate of ICU."
   ]
  }
 ],
 "metadata": {
  "kernelspec": {
   "display_name": "Python 3",
   "language": "python",
   "name": "python3"
  },
  "language_info": {
   "codemirror_mode": {
    "name": "ipython",
    "version": 3
   },
   "file_extension": ".py",
   "mimetype": "text/x-python",
   "name": "python",
   "nbconvert_exporter": "python",
   "pygments_lexer": "ipython3",
   "version": "3.8.5"
  }
 },
 "nbformat": 4,
 "nbformat_minor": 4
}
