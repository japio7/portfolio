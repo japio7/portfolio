{
 "cells": [
  {
   "cell_type": "code",
   "execution_count": 1,
   "metadata": {},
   "outputs": [],
   "source": [
    "import seaborn as sns\n",
    "import numpy as np\n",
    "import pandas as pd\n",
    "import matplotlib.pyplot as plt\n",
    "import re\n",
    "from IPython.display import display\n",
    "import statsmodels.api as sm\n",
    "import statsmodels.formula.api as smf"
   ]
  },
  {
   "cell_type": "markdown",
   "metadata": {},
   "source": [
    "We will first download the data from data.cdc.gov"
   ]
  },
  {
   "cell_type": "code",
   "execution_count": 2,
   "metadata": {},
   "outputs": [],
   "source": [
    "data = pd.read_csv(\"https://data.cdc.gov/api/views/u6jv-9ijr/rows.csv?accessType=DOWNLOAD\")"
   ]
  },
  {
   "cell_type": "markdown",
   "metadata": {},
   "source": [
    "We will drop all of the columns in the data that we will not use."
   ]
  },
  {
   "cell_type": "code",
   "execution_count": 3,
   "metadata": {},
   "outputs": [],
   "source": [
    "data.drop('Week Ending Date', axis = 1, inplace = True)\n",
    "data.drop('State Abbreviation', axis = 1, inplace = True)\n",
    "data.drop('Week', axis = 1, inplace = True)\n",
    "data.drop('Cause Subgroup', axis = 1, inplace = True)\n",
    "data.drop('Time Period', axis = 1, inplace = True)\n",
    "data.drop('Suppress', axis = 1, inplace = True)\n",
    "data.drop('Note', axis = 1, inplace = True)\n",
    "data.drop('Average Number of Deaths in Time Period', axis = 1, inplace = True)\n",
    "data.drop('Difference from 2015-2019 to 2020', axis = 1, inplace = True)\n",
    "data.drop('Percent Difference from 2015-2019 to 2020', axis = 1, inplace = True)\n",
    "data.drop('Type', axis = 1, inplace = True)"
   ]
  },
  {
   "cell_type": "markdown",
   "metadata": {},
   "source": [
    "Since the dataset contains data from 2021 and we are not interested in 2021 data, we will drop this data."
   ]
  },
  {
   "cell_type": "code",
   "execution_count": 4,
   "metadata": {},
   "outputs": [],
   "source": [
    "data = data[data[\"Year\"] != 2021]"
   ]
  },
  {
   "cell_type": "markdown",
   "metadata": {},
   "source": [
    "Let's check for missing data."
   ]
  },
  {
   "cell_type": "code",
   "execution_count": 5,
   "metadata": {},
   "outputs": [
    {
     "data": {
      "text/plain": [
       "Jurisdiction        0\n",
       "Year                0\n",
       "Cause Group         0\n",
       "Number of Deaths    0\n",
       "dtype: int64"
      ]
     },
     "execution_count": 5,
     "metadata": {},
     "output_type": "execute_result"
    }
   ],
   "source": [
    "data.isnull().sum()"
   ]
  },
  {
   "cell_type": "markdown",
   "metadata": {},
   "source": [
    "Since there is no missing data, we can continue with our analysis. There is data in the dataset that has a jurisdiction of 'United States'. This means that out data is going to be doubled of what it really is so let's drop the observations that have a jurisdiction of 'United States' and only get the state jurisdiction."
   ]
  },
  {
   "cell_type": "code",
   "execution_count": 6,
   "metadata": {},
   "outputs": [
    {
     "data": {
      "text/html": [
       "<div>\n",
       "<style scoped>\n",
       "    .dataframe tbody tr th:only-of-type {\n",
       "        vertical-align: middle;\n",
       "    }\n",
       "\n",
       "    .dataframe tbody tr th {\n",
       "        vertical-align: top;\n",
       "    }\n",
       "\n",
       "    .dataframe thead th {\n",
       "        text-align: right;\n",
       "    }\n",
       "</style>\n",
       "<table border=\"1\" class=\"dataframe\">\n",
       "  <thead>\n",
       "    <tr style=\"text-align: right;\">\n",
       "      <th></th>\n",
       "      <th>Jurisdiction</th>\n",
       "      <th>Year</th>\n",
       "      <th>Cause Group</th>\n",
       "      <th>Number of Deaths</th>\n",
       "    </tr>\n",
       "  </thead>\n",
       "  <tbody>\n",
       "    <tr>\n",
       "      <th>30120</th>\n",
       "      <td>United States</td>\n",
       "      <td>2015</td>\n",
       "      <td>Alzheimer disease and dementia</td>\n",
       "      <td>6187.0</td>\n",
       "    </tr>\n",
       "    <tr>\n",
       "      <th>30121</th>\n",
       "      <td>United States</td>\n",
       "      <td>2015</td>\n",
       "      <td>Alzheimer disease and dementia</td>\n",
       "      <td>6187.0</td>\n",
       "    </tr>\n",
       "    <tr>\n",
       "      <th>30122</th>\n",
       "      <td>United States</td>\n",
       "      <td>2016</td>\n",
       "      <td>Alzheimer disease and dementia</td>\n",
       "      <td>5155.0</td>\n",
       "    </tr>\n",
       "    <tr>\n",
       "      <th>30123</th>\n",
       "      <td>United States</td>\n",
       "      <td>2016</td>\n",
       "      <td>Alzheimer disease and dementia</td>\n",
       "      <td>5155.0</td>\n",
       "    </tr>\n",
       "    <tr>\n",
       "      <th>30124</th>\n",
       "      <td>United States</td>\n",
       "      <td>2017</td>\n",
       "      <td>Alzheimer disease and dementia</td>\n",
       "      <td>5844.0</td>\n",
       "    </tr>\n",
       "  </tbody>\n",
       "</table>\n",
       "</div>"
      ],
      "text/plain": [
       "        Jurisdiction  Year                     Cause Group  Number of Deaths\n",
       "30120  United States  2015  Alzheimer disease and dementia            6187.0\n",
       "30121  United States  2015  Alzheimer disease and dementia            6187.0\n",
       "30122  United States  2016  Alzheimer disease and dementia            5155.0\n",
       "30123  United States  2016  Alzheimer disease and dementia            5155.0\n",
       "30124  United States  2017  Alzheimer disease and dementia            5844.0"
      ]
     },
     "metadata": {},
     "output_type": "display_data"
    },
    {
     "data": {
      "text/plain": [
       "Jurisdiction        8138\n",
       "Year                8138\n",
       "Cause Group         8138\n",
       "Number of Deaths    8138\n",
       "dtype: int64"
      ]
     },
     "metadata": {},
     "output_type": "display_data"
    }
   ],
   "source": [
    "display(data[data['Jurisdiction'] == 'United States'].head())\n",
    "display(data[data['Jurisdiction'] == 'United States'].count())"
   ]
  },
  {
   "cell_type": "code",
   "execution_count": 7,
   "metadata": {},
   "outputs": [
    {
     "data": {
      "text/plain": [
       "Jurisdiction        0\n",
       "Year                0\n",
       "Cause Group         0\n",
       "Number of Deaths    0\n",
       "dtype: int64"
      ]
     },
     "metadata": {},
     "output_type": "display_data"
    }
   ],
   "source": [
    "index = data[(data['Jurisdiction'] == 'United States')].index\n",
    "data.drop(index, inplace = True)\n",
    "display(data[data['Jurisdiction'] == 'United States'].count())"
   ]
  },
  {
   "cell_type": "markdown",
   "metadata": {},
   "source": [
    "Let's change the column names so they don't have spaces."
   ]
  },
  {
   "cell_type": "code",
   "execution_count": 8,
   "metadata": {},
   "outputs": [
    {
     "data": {
      "text/html": [
       "<div>\n",
       "<style scoped>\n",
       "    .dataframe tbody tr th:only-of-type {\n",
       "        vertical-align: middle;\n",
       "    }\n",
       "\n",
       "    .dataframe tbody tr th {\n",
       "        vertical-align: top;\n",
       "    }\n",
       "\n",
       "    .dataframe thead th {\n",
       "        text-align: right;\n",
       "    }\n",
       "</style>\n",
       "<table border=\"1\" class=\"dataframe\">\n",
       "  <thead>\n",
       "    <tr style=\"text-align: right;\">\n",
       "      <th></th>\n",
       "      <th>Jurisdiction</th>\n",
       "      <th>Year</th>\n",
       "      <th>CauseGroup</th>\n",
       "      <th>NumberOfDeaths</th>\n",
       "    </tr>\n",
       "  </thead>\n",
       "  <tbody>\n",
       "    <tr>\n",
       "      <th>0</th>\n",
       "      <td>Alabama</td>\n",
       "      <td>2015</td>\n",
       "      <td>Alzheimer disease and dementia</td>\n",
       "      <td>120.0</td>\n",
       "    </tr>\n",
       "    <tr>\n",
       "      <th>1</th>\n",
       "      <td>Alabama</td>\n",
       "      <td>2015</td>\n",
       "      <td>Alzheimer disease and dementia</td>\n",
       "      <td>120.0</td>\n",
       "    </tr>\n",
       "    <tr>\n",
       "      <th>2</th>\n",
       "      <td>Alabama</td>\n",
       "      <td>2016</td>\n",
       "      <td>Alzheimer disease and dementia</td>\n",
       "      <td>76.0</td>\n",
       "    </tr>\n",
       "    <tr>\n",
       "      <th>3</th>\n",
       "      <td>Alabama</td>\n",
       "      <td>2016</td>\n",
       "      <td>Alzheimer disease and dementia</td>\n",
       "      <td>76.0</td>\n",
       "    </tr>\n",
       "    <tr>\n",
       "      <th>4</th>\n",
       "      <td>Alabama</td>\n",
       "      <td>2017</td>\n",
       "      <td>Alzheimer disease and dementia</td>\n",
       "      <td>96.0</td>\n",
       "    </tr>\n",
       "  </tbody>\n",
       "</table>\n",
       "</div>"
      ],
      "text/plain": [
       "  Jurisdiction  Year                      CauseGroup  NumberOfDeaths\n",
       "0      Alabama  2015  Alzheimer disease and dementia           120.0\n",
       "1      Alabama  2015  Alzheimer disease and dementia           120.0\n",
       "2      Alabama  2016  Alzheimer disease and dementia            76.0\n",
       "3      Alabama  2016  Alzheimer disease and dementia            76.0\n",
       "4      Alabama  2017  Alzheimer disease and dementia            96.0"
      ]
     },
     "execution_count": 8,
     "metadata": {},
     "output_type": "execute_result"
    }
   ],
   "source": [
    "data.columns = ['Jurisdiction', 'Year', 'CauseGroup', 'NumberOfDeaths']\n",
    "data.head()"
   ]
  },
  {
   "cell_type": "markdown",
   "metadata": {},
   "source": [
    "We will check the unique years in the dataset and make sure we only have 2015 through 2020."
   ]
  },
  {
   "cell_type": "code",
   "execution_count": 9,
   "metadata": {},
   "outputs": [
    {
     "data": {
      "text/plain": [
       "array([2015, 2016, 2017, 2018, 2019, 2020])"
      ]
     },
     "execution_count": 9,
     "metadata": {},
     "output_type": "execute_result"
    }
   ],
   "source": [
    "data[\"Year\"].unique()"
   ]
  },
  {
   "cell_type": "markdown",
   "metadata": {},
   "source": [
    "Now, we will loop through all 6 years and seperate the data by year."
   ]
  },
  {
   "cell_type": "code",
   "execution_count": 10,
   "metadata": {},
   "outputs": [],
   "source": [
    "for year in data['Year'].unique():\n",
    "    globals()['df_%s' % year] = data[data.Year == year].reset_index(drop = True)"
   ]
  },
  {
   "cell_type": "code",
   "execution_count": 11,
   "metadata": {},
   "outputs": [],
   "source": [
    "sum_years = data.groupby([data.Year]).sum()\n",
    "\n",
    "totalDeaths_all = int(sum(sum_years['NumberOfDeaths']))\n",
    "\n",
    "i = 0\n",
    "for year in sum_years.index:\n",
    "    globals()['sum_%s' % year] = int(sum_years.iloc[i])\n",
    "    i+=1"
   ]
  },
  {
   "cell_type": "markdown",
   "metadata": {},
   "source": [
    "Let's get the total number of deaths per year along with the total deaths for all 6 years."
   ]
  },
  {
   "cell_type": "code",
   "execution_count": 12,
   "metadata": {},
   "outputs": [],
   "source": [
    "years = data['Year'].unique()\n",
    "\n",
    "years_total = []\n",
    "for year in years:\n",
    "    years_total.append(str(year))\n",
    "years_total.append('Total')\n",
    "\n",
    "deaths = [item for item in sum_years['NumberOfDeaths']]\n",
    "deaths.append(totalDeaths_all)"
   ]
  },
  {
   "cell_type": "code",
   "execution_count": 13,
   "metadata": {},
   "outputs": [],
   "source": [
    "for i in range(len(deaths)):\n",
    "    deaths[i] = int(deaths[i])"
   ]
  },
  {
   "cell_type": "code",
   "execution_count": 14,
   "metadata": {},
   "outputs": [
    {
     "data": {
      "text/plain": [
       "[4169620, 4185822, 4301084, 4343760, 4341442, 4635925, 25977653]"
      ]
     },
     "execution_count": 14,
     "metadata": {},
     "output_type": "execute_result"
    }
   ],
   "source": [
    "deaths"
   ]
  },
  {
   "cell_type": "markdown",
   "metadata": {},
   "source": [
    "Now, we only need the deaths per year and we want to reverse them so we have 2020 deaths at index 0."
   ]
  },
  {
   "cell_type": "code",
   "execution_count": 15,
   "metadata": {},
   "outputs": [
    {
     "name": "stdout",
     "output_type": "stream",
     "text": [
      "[4635925, 4341442, 4343760, 4301084, 4185822, 4169620]\n"
     ]
    }
   ],
   "source": [
    "deaths_ = []\n",
    "for item in deaths[:-1]:\n",
    "    deaths_.insert(0,item)\n",
    "print(deaths_)"
   ]
  },
  {
   "cell_type": "markdown",
   "metadata": {},
   "source": [
    "Let's get the population of the United States for all 6 of these years."
   ]
  },
  {
   "cell_type": "code",
   "execution_count": 16,
   "metadata": {},
   "outputs": [],
   "source": [
    "pop = pd.read_html(\"https://www.multpl.com/united-states-population/table/by-year\")[0]"
   ]
  },
  {
   "cell_type": "code",
   "execution_count": 17,
   "metadata": {},
   "outputs": [],
   "source": [
    "pop = pop.iloc[1:7,]"
   ]
  },
  {
   "cell_type": "code",
   "execution_count": 18,
   "metadata": {},
   "outputs": [
    {
     "data": {
      "text/html": [
       "<div>\n",
       "<style scoped>\n",
       "    .dataframe tbody tr th:only-of-type {\n",
       "        vertical-align: middle;\n",
       "    }\n",
       "\n",
       "    .dataframe tbody tr th {\n",
       "        vertical-align: top;\n",
       "    }\n",
       "\n",
       "    .dataframe thead th {\n",
       "        text-align: right;\n",
       "    }\n",
       "</style>\n",
       "<table border=\"1\" class=\"dataframe\">\n",
       "  <thead>\n",
       "    <tr style=\"text-align: right;\">\n",
       "      <th></th>\n",
       "      <th>Date</th>\n",
       "      <th>Value Value</th>\n",
       "    </tr>\n",
       "  </thead>\n",
       "  <tbody>\n",
       "    <tr>\n",
       "      <th>1</th>\n",
       "      <td>Jul 1, 2020</td>\n",
       "      <td>329.88 million</td>\n",
       "    </tr>\n",
       "    <tr>\n",
       "      <th>2</th>\n",
       "      <td>Jul 1, 2019</td>\n",
       "      <td>328.24 million</td>\n",
       "    </tr>\n",
       "    <tr>\n",
       "      <th>3</th>\n",
       "      <td>Jul 1, 2018</td>\n",
       "      <td>326.69 million</td>\n",
       "    </tr>\n",
       "    <tr>\n",
       "      <th>4</th>\n",
       "      <td>Jul 1, 2017</td>\n",
       "      <td>324.99 million</td>\n",
       "    </tr>\n",
       "    <tr>\n",
       "      <th>5</th>\n",
       "      <td>Jul 1, 2016</td>\n",
       "      <td>322.94 million</td>\n",
       "    </tr>\n",
       "    <tr>\n",
       "      <th>6</th>\n",
       "      <td>Jul 1, 2015</td>\n",
       "      <td>320.64 million</td>\n",
       "    </tr>\n",
       "  </tbody>\n",
       "</table>\n",
       "</div>"
      ],
      "text/plain": [
       "          Date     Value Value\n",
       "1  Jul 1, 2020  329.88 million\n",
       "2  Jul 1, 2019  328.24 million\n",
       "3  Jul 1, 2018  326.69 million\n",
       "4  Jul 1, 2017  324.99 million\n",
       "5  Jul 1, 2016  322.94 million\n",
       "6  Jul 1, 2015  320.64 million"
      ]
     },
     "execution_count": 18,
     "metadata": {},
     "output_type": "execute_result"
    }
   ],
   "source": [
    "pop"
   ]
  },
  {
   "cell_type": "markdown",
   "metadata": {},
   "source": [
    "We only want to get year of the date column and the population in just a number so we will split both columns into lists and take the last index of the data column and index 0 of the value column and multiply the value column by 1,000,000 to get the actual population."
   ]
  },
  {
   "cell_type": "code",
   "execution_count": 19,
   "metadata": {},
   "outputs": [],
   "source": [
    "for i in range(len(pop)):\n",
    "    lst1 = pop.iloc[i,0].split()\n",
    "    pop.iloc[i,0] = lst1[-1]\n",
    "    \n",
    "    lst2 = pop.iloc[i,1].split()\n",
    "    pop.iloc[i,1] = lst2[0]"
   ]
  },
  {
   "cell_type": "code",
   "execution_count": 20,
   "metadata": {},
   "outputs": [],
   "source": [
    "pop.columns = [\"Date\", \"Population\"]"
   ]
  },
  {
   "cell_type": "markdown",
   "metadata": {},
   "source": [
    "We will check the data types and if they aren't the right data types, we will convert them."
   ]
  },
  {
   "cell_type": "code",
   "execution_count": 21,
   "metadata": {},
   "outputs": [
    {
     "data": {
      "text/plain": [
       "Date          object\n",
       "Population    object\n",
       "dtype: object"
      ]
     },
     "execution_count": 21,
     "metadata": {},
     "output_type": "execute_result"
    }
   ],
   "source": [
    "pop.dtypes"
   ]
  },
  {
   "cell_type": "code",
   "execution_count": 22,
   "metadata": {},
   "outputs": [],
   "source": [
    "pop[\"Date\"] = pd.to_numeric(pop[\"Date\"])\n",
    "pop[\"Population\"] = pd.to_numeric(pop[\"Population\"])"
   ]
  },
  {
   "cell_type": "code",
   "execution_count": 23,
   "metadata": {},
   "outputs": [
    {
     "data": {
      "text/html": [
       "<div>\n",
       "<style scoped>\n",
       "    .dataframe tbody tr th:only-of-type {\n",
       "        vertical-align: middle;\n",
       "    }\n",
       "\n",
       "    .dataframe tbody tr th {\n",
       "        vertical-align: top;\n",
       "    }\n",
       "\n",
       "    .dataframe thead th {\n",
       "        text-align: right;\n",
       "    }\n",
       "</style>\n",
       "<table border=\"1\" class=\"dataframe\">\n",
       "  <thead>\n",
       "    <tr style=\"text-align: right;\">\n",
       "      <th></th>\n",
       "      <th>Date</th>\n",
       "      <th>Population</th>\n",
       "    </tr>\n",
       "  </thead>\n",
       "  <tbody>\n",
       "    <tr>\n",
       "      <th>1</th>\n",
       "      <td>2020</td>\n",
       "      <td>329.88</td>\n",
       "    </tr>\n",
       "    <tr>\n",
       "      <th>2</th>\n",
       "      <td>2019</td>\n",
       "      <td>328.24</td>\n",
       "    </tr>\n",
       "    <tr>\n",
       "      <th>3</th>\n",
       "      <td>2018</td>\n",
       "      <td>326.69</td>\n",
       "    </tr>\n",
       "    <tr>\n",
       "      <th>4</th>\n",
       "      <td>2017</td>\n",
       "      <td>324.99</td>\n",
       "    </tr>\n",
       "    <tr>\n",
       "      <th>5</th>\n",
       "      <td>2016</td>\n",
       "      <td>322.94</td>\n",
       "    </tr>\n",
       "    <tr>\n",
       "      <th>6</th>\n",
       "      <td>2015</td>\n",
       "      <td>320.64</td>\n",
       "    </tr>\n",
       "  </tbody>\n",
       "</table>\n",
       "</div>"
      ],
      "text/plain": [
       "   Date  Population\n",
       "1  2020      329.88\n",
       "2  2019      328.24\n",
       "3  2018      326.69\n",
       "4  2017      324.99\n",
       "5  2016      322.94\n",
       "6  2015      320.64"
      ]
     },
     "execution_count": 23,
     "metadata": {},
     "output_type": "execute_result"
    }
   ],
   "source": [
    "pop"
   ]
  },
  {
   "cell_type": "code",
   "execution_count": 24,
   "metadata": {},
   "outputs": [
    {
     "data": {
      "text/plain": [
       "Date            int64\n",
       "Population    float64\n",
       "dtype: object"
      ]
     },
     "execution_count": 24,
     "metadata": {},
     "output_type": "execute_result"
    }
   ],
   "source": [
    "pop.dtypes"
   ]
  },
  {
   "cell_type": "code",
   "execution_count": 25,
   "metadata": {},
   "outputs": [],
   "source": [
    "pop[\"Population\"] = pop[\"Population\"] * 1000000"
   ]
  },
  {
   "cell_type": "code",
   "execution_count": 26,
   "metadata": {},
   "outputs": [],
   "source": [
    "pop[\"Population\"] = pd.to_numeric(pop[\"Population\"], downcast=\"integer\")"
   ]
  },
  {
   "cell_type": "code",
   "execution_count": 27,
   "metadata": {},
   "outputs": [
    {
     "data": {
      "text/html": [
       "<div>\n",
       "<style scoped>\n",
       "    .dataframe tbody tr th:only-of-type {\n",
       "        vertical-align: middle;\n",
       "    }\n",
       "\n",
       "    .dataframe tbody tr th {\n",
       "        vertical-align: top;\n",
       "    }\n",
       "\n",
       "    .dataframe thead th {\n",
       "        text-align: right;\n",
       "    }\n",
       "</style>\n",
       "<table border=\"1\" class=\"dataframe\">\n",
       "  <thead>\n",
       "    <tr style=\"text-align: right;\">\n",
       "      <th></th>\n",
       "      <th>Date</th>\n",
       "      <th>Population</th>\n",
       "    </tr>\n",
       "  </thead>\n",
       "  <tbody>\n",
       "    <tr>\n",
       "      <th>1</th>\n",
       "      <td>2020</td>\n",
       "      <td>329880000</td>\n",
       "    </tr>\n",
       "    <tr>\n",
       "      <th>2</th>\n",
       "      <td>2019</td>\n",
       "      <td>328240000</td>\n",
       "    </tr>\n",
       "    <tr>\n",
       "      <th>3</th>\n",
       "      <td>2018</td>\n",
       "      <td>326690000</td>\n",
       "    </tr>\n",
       "    <tr>\n",
       "      <th>4</th>\n",
       "      <td>2017</td>\n",
       "      <td>324990000</td>\n",
       "    </tr>\n",
       "    <tr>\n",
       "      <th>5</th>\n",
       "      <td>2016</td>\n",
       "      <td>322940000</td>\n",
       "    </tr>\n",
       "    <tr>\n",
       "      <th>6</th>\n",
       "      <td>2015</td>\n",
       "      <td>320640000</td>\n",
       "    </tr>\n",
       "  </tbody>\n",
       "</table>\n",
       "</div>"
      ],
      "text/plain": [
       "   Date  Population\n",
       "1  2020   329880000\n",
       "2  2019   328240000\n",
       "3  2018   326690000\n",
       "4  2017   324990000\n",
       "5  2016   322940000\n",
       "6  2015   320640000"
      ]
     },
     "execution_count": 27,
     "metadata": {},
     "output_type": "execute_result"
    }
   ],
   "source": [
    "pop"
   ]
  },
  {
   "cell_type": "markdown",
   "metadata": {},
   "source": [
    "Now, let's create another dataframe for the population and death rate."
   ]
  },
  {
   "cell_type": "code",
   "execution_count": 28,
   "metadata": {},
   "outputs": [],
   "source": [
    "pop_rate_df = pop.copy()"
   ]
  },
  {
   "cell_type": "code",
   "execution_count": 29,
   "metadata": {},
   "outputs": [],
   "source": [
    "pop_rate_df[\"Total_Deaths\"] = deaths_\n",
    "pop_rate_df[\"Total_Rate\"] = pop_rate_df[\"Total_Deaths\"]/pop_rate_df[\"Population\"]"
   ]
  },
  {
   "cell_type": "code",
   "execution_count": 30,
   "metadata": {},
   "outputs": [
    {
     "data": {
      "text/html": [
       "<div>\n",
       "<style scoped>\n",
       "    .dataframe tbody tr th:only-of-type {\n",
       "        vertical-align: middle;\n",
       "    }\n",
       "\n",
       "    .dataframe tbody tr th {\n",
       "        vertical-align: top;\n",
       "    }\n",
       "\n",
       "    .dataframe thead th {\n",
       "        text-align: right;\n",
       "    }\n",
       "</style>\n",
       "<table border=\"1\" class=\"dataframe\">\n",
       "  <thead>\n",
       "    <tr style=\"text-align: right;\">\n",
       "      <th></th>\n",
       "      <th>Date</th>\n",
       "      <th>Population</th>\n",
       "      <th>Total_Deaths</th>\n",
       "      <th>Total_Rate</th>\n",
       "    </tr>\n",
       "  </thead>\n",
       "  <tbody>\n",
       "    <tr>\n",
       "      <th>1</th>\n",
       "      <td>2020</td>\n",
       "      <td>329880000</td>\n",
       "      <td>4635925</td>\n",
       "      <td>0.014053</td>\n",
       "    </tr>\n",
       "    <tr>\n",
       "      <th>2</th>\n",
       "      <td>2019</td>\n",
       "      <td>328240000</td>\n",
       "      <td>4341442</td>\n",
       "      <td>0.013226</td>\n",
       "    </tr>\n",
       "    <tr>\n",
       "      <th>3</th>\n",
       "      <td>2018</td>\n",
       "      <td>326690000</td>\n",
       "      <td>4343760</td>\n",
       "      <td>0.013296</td>\n",
       "    </tr>\n",
       "    <tr>\n",
       "      <th>4</th>\n",
       "      <td>2017</td>\n",
       "      <td>324990000</td>\n",
       "      <td>4301084</td>\n",
       "      <td>0.013235</td>\n",
       "    </tr>\n",
       "    <tr>\n",
       "      <th>5</th>\n",
       "      <td>2016</td>\n",
       "      <td>322940000</td>\n",
       "      <td>4185822</td>\n",
       "      <td>0.012962</td>\n",
       "    </tr>\n",
       "    <tr>\n",
       "      <th>6</th>\n",
       "      <td>2015</td>\n",
       "      <td>320640000</td>\n",
       "      <td>4169620</td>\n",
       "      <td>0.013004</td>\n",
       "    </tr>\n",
       "  </tbody>\n",
       "</table>\n",
       "</div>"
      ],
      "text/plain": [
       "   Date  Population  Total_Deaths  Total_Rate\n",
       "1  2020   329880000       4635925    0.014053\n",
       "2  2019   328240000       4341442    0.013226\n",
       "3  2018   326690000       4343760    0.013296\n",
       "4  2017   324990000       4301084    0.013235\n",
       "5  2016   322940000       4185822    0.012962\n",
       "6  2015   320640000       4169620    0.013004"
      ]
     },
     "execution_count": 30,
     "metadata": {},
     "output_type": "execute_result"
    }
   ],
   "source": [
    "pop_rate_df"
   ]
  },
  {
   "cell_type": "markdown",
   "metadata": {},
   "source": [
    "Now, let's seperate the data by causes of death."
   ]
  },
  {
   "cell_type": "code",
   "execution_count": 31,
   "metadata": {},
   "outputs": [
    {
     "data": {
      "text/html": [
       "<div>\n",
       "<style scoped>\n",
       "    .dataframe tbody tr th:only-of-type {\n",
       "        vertical-align: middle;\n",
       "    }\n",
       "\n",
       "    .dataframe tbody tr th {\n",
       "        vertical-align: top;\n",
       "    }\n",
       "\n",
       "    .dataframe thead th {\n",
       "        text-align: right;\n",
       "    }\n",
       "</style>\n",
       "<table border=\"1\" class=\"dataframe\">\n",
       "  <thead>\n",
       "    <tr style=\"text-align: right;\">\n",
       "      <th></th>\n",
       "      <th>Year</th>\n",
       "      <th>Alzheimer</th>\n",
       "      <th>Circulatory</th>\n",
       "      <th>Malignant</th>\n",
       "      <th>Other</th>\n",
       "      <th>Respiratory</th>\n",
       "    </tr>\n",
       "  </thead>\n",
       "  <tbody>\n",
       "    <tr>\n",
       "      <th>0</th>\n",
       "      <td>2015</td>\n",
       "      <td>490130.0</td>\n",
       "      <td>1649122.0</td>\n",
       "      <td>1196044.0</td>\n",
       "      <td>314026.0</td>\n",
       "      <td>520298.0</td>\n",
       "    </tr>\n",
       "    <tr>\n",
       "      <th>1</th>\n",
       "      <td>2016</td>\n",
       "      <td>498712.0</td>\n",
       "      <td>1658822.0</td>\n",
       "      <td>1200410.0</td>\n",
       "      <td>315756.0</td>\n",
       "      <td>512122.0</td>\n",
       "    </tr>\n",
       "    <tr>\n",
       "      <th>2</th>\n",
       "      <td>2017</td>\n",
       "      <td>525012.0</td>\n",
       "      <td>1702588.0</td>\n",
       "      <td>1207174.0</td>\n",
       "      <td>326626.0</td>\n",
       "      <td>539684.0</td>\n",
       "    </tr>\n",
       "    <tr>\n",
       "      <th>3</th>\n",
       "      <td>2018</td>\n",
       "      <td>535206.0</td>\n",
       "      <td>1722912.0</td>\n",
       "      <td>1207218.0</td>\n",
       "      <td>330710.0</td>\n",
       "      <td>547714.0</td>\n",
       "    </tr>\n",
       "    <tr>\n",
       "      <th>4</th>\n",
       "      <td>2019</td>\n",
       "      <td>544754.0</td>\n",
       "      <td>1733834.0</td>\n",
       "      <td>1208100.0</td>\n",
       "      <td>331254.0</td>\n",
       "      <td>523500.0</td>\n",
       "    </tr>\n",
       "    <tr>\n",
       "      <th>5</th>\n",
       "      <td>2020</td>\n",
       "      <td>621419.0</td>\n",
       "      <td>1875160.0</td>\n",
       "      <td>1233403.0</td>\n",
       "      <td>373682.0</td>\n",
       "      <td>532261.0</td>\n",
       "    </tr>\n",
       "  </tbody>\n",
       "</table>\n",
       "</div>"
      ],
      "text/plain": [
       "   Year  Alzheimer  Circulatory  Malignant     Other  Respiratory\n",
       "0  2015   490130.0    1649122.0  1196044.0  314026.0     520298.0\n",
       "1  2016   498712.0    1658822.0  1200410.0  315756.0     512122.0\n",
       "2  2017   525012.0    1702588.0  1207174.0  326626.0     539684.0\n",
       "3  2018   535206.0    1722912.0  1207218.0  330710.0     547714.0\n",
       "4  2019   544754.0    1733834.0  1208100.0  331254.0     523500.0\n",
       "5  2020   621419.0    1875160.0  1233403.0  373682.0     532261.0"
      ]
     },
     "metadata": {},
     "output_type": "display_data"
    }
   ],
   "source": [
    "# Get Alzheimer deaths per year and store in a variable called 'deathsAlzheimer_year' where year is the actual year\n",
    "for year in data['Year'].unique():\n",
    "    globals()['deathsAlzheimer_%s' % year] = int(data.query(f\"CauseGroup == 'Alzheimer disease and dementia' and Year == {year}\")['NumberOfDeaths'].sum())\n",
    "\n",
    "# Get Malignant deaths per year and store in a variable called 'deathsMalignant_year' where year is the actual year                                                           \n",
    "for year in data['Year'].unique():\n",
    "    globals()['deathsMalignant_%s' % year] = int(data.query(f\"CauseGroup == 'Malignant neoplasms' and Year == {year}\")['NumberOfDeaths'].sum())\n",
    "\n",
    "# Get Respiratory deaths per year and store in a variable called 'deathsRespiratory_year' where year is the actual year                                                           \n",
    "for year in data['Year'].unique():\n",
    "    globals()['deathsRespiratory_%s' % year] = int(data.query(f\"CauseGroup == 'Respiratory diseases' and Year == {year}\")['NumberOfDeaths'].sum())\n",
    "\n",
    "# Get Circulatory deaths per year and store in a variable called 'deathsCirculatory_year' where year is the actual year                                                           \n",
    "for year in data['Year'].unique():\n",
    "    globals()['deathsCirculatory_%s' % year] = int(data.query(f\"CauseGroup == 'Circulatory diseases' and Year == {year}\")['NumberOfDeaths'].sum())\n",
    "    \n",
    "# Get Other deaths per year and store in a variable called 'deathsOther_year' where year is the actual year                                                           \n",
    "for year in data['Year'].unique():\n",
    "    globals()['deathsOther_%s' % year] = int(data.query(f\"CauseGroup == 'Other select causes' and Year == {year}\")['NumberOfDeaths'].sum())\n",
    "\n",
    "yearCauseDeaths = data.groupby([data.Year, data.CauseGroup]).sum().reset_index()\n",
    "\n",
    "myDict = {}\n",
    "for i in range(len(yearCauseDeaths)):\n",
    "    if myDict == {}:\n",
    "        myDict = {yearCauseDeaths.iloc[i,0]:[yearCauseDeaths.iloc[i,-1]]}\n",
    "    else:\n",
    "        if yearCauseDeaths.iloc[i,0] in myDict.keys():\n",
    "            myDict[yearCauseDeaths.iloc[i,0]].append(yearCauseDeaths.iloc[i,-1])\n",
    "        else:\n",
    "            myDict.update({yearCauseDeaths.iloc[i,0]:[yearCauseDeaths.iloc[i,-1]]})\n",
    "\n",
    "colNames = yearCauseDeaths[\"CauseGroup\"].unique()\n",
    "col_names = []\n",
    "\n",
    "for item in colNames:\n",
    "    col_names.append(item.split(\" \")[0])\n",
    "\n",
    "df_deathsCausePerYear = pd.DataFrame(myDict.values(), columns = col_names)\n",
    "df_deathsCausePerYear\n",
    "\n",
    "years = myDict.keys()\n",
    "\n",
    "df_deathsCausePerYear.insert(0, \"Year\", years)\n",
    "\n",
    "display(df_deathsCausePerYear)"
   ]
  },
  {
   "cell_type": "markdown",
   "metadata": {},
   "source": [
    "Convert the values from float to integer."
   ]
  },
  {
   "cell_type": "code",
   "execution_count": 32,
   "metadata": {},
   "outputs": [
    {
     "data": {
      "text/html": [
       "<div>\n",
       "<style scoped>\n",
       "    .dataframe tbody tr th:only-of-type {\n",
       "        vertical-align: middle;\n",
       "    }\n",
       "\n",
       "    .dataframe tbody tr th {\n",
       "        vertical-align: top;\n",
       "    }\n",
       "\n",
       "    .dataframe thead th {\n",
       "        text-align: right;\n",
       "    }\n",
       "</style>\n",
       "<table border=\"1\" class=\"dataframe\">\n",
       "  <thead>\n",
       "    <tr style=\"text-align: right;\">\n",
       "      <th></th>\n",
       "      <th>Year</th>\n",
       "      <th>Alzheimer</th>\n",
       "      <th>Circulatory</th>\n",
       "      <th>Malignant</th>\n",
       "      <th>Other</th>\n",
       "      <th>Respiratory</th>\n",
       "    </tr>\n",
       "  </thead>\n",
       "  <tbody>\n",
       "    <tr>\n",
       "      <th>0</th>\n",
       "      <td>2015</td>\n",
       "      <td>490130</td>\n",
       "      <td>1649122</td>\n",
       "      <td>1196044</td>\n",
       "      <td>314026</td>\n",
       "      <td>520298</td>\n",
       "    </tr>\n",
       "    <tr>\n",
       "      <th>1</th>\n",
       "      <td>2016</td>\n",
       "      <td>498712</td>\n",
       "      <td>1658822</td>\n",
       "      <td>1200410</td>\n",
       "      <td>315756</td>\n",
       "      <td>512122</td>\n",
       "    </tr>\n",
       "    <tr>\n",
       "      <th>2</th>\n",
       "      <td>2017</td>\n",
       "      <td>525012</td>\n",
       "      <td>1702588</td>\n",
       "      <td>1207174</td>\n",
       "      <td>326626</td>\n",
       "      <td>539684</td>\n",
       "    </tr>\n",
       "    <tr>\n",
       "      <th>3</th>\n",
       "      <td>2018</td>\n",
       "      <td>535206</td>\n",
       "      <td>1722912</td>\n",
       "      <td>1207218</td>\n",
       "      <td>330710</td>\n",
       "      <td>547714</td>\n",
       "    </tr>\n",
       "    <tr>\n",
       "      <th>4</th>\n",
       "      <td>2019</td>\n",
       "      <td>544754</td>\n",
       "      <td>1733834</td>\n",
       "      <td>1208100</td>\n",
       "      <td>331254</td>\n",
       "      <td>523500</td>\n",
       "    </tr>\n",
       "    <tr>\n",
       "      <th>5</th>\n",
       "      <td>2020</td>\n",
       "      <td>621419</td>\n",
       "      <td>1875160</td>\n",
       "      <td>1233403</td>\n",
       "      <td>373682</td>\n",
       "      <td>532261</td>\n",
       "    </tr>\n",
       "  </tbody>\n",
       "</table>\n",
       "</div>"
      ],
      "text/plain": [
       "   Year  Alzheimer  Circulatory  Malignant   Other  Respiratory\n",
       "0  2015     490130      1649122    1196044  314026       520298\n",
       "1  2016     498712      1658822    1200410  315756       512122\n",
       "2  2017     525012      1702588    1207174  326626       539684\n",
       "3  2018     535206      1722912    1207218  330710       547714\n",
       "4  2019     544754      1733834    1208100  331254       523500\n",
       "5  2020     621419      1875160    1233403  373682       532261"
      ]
     },
     "execution_count": 32,
     "metadata": {},
     "output_type": "execute_result"
    }
   ],
   "source": [
    "df_deathsCausePerYear[\"Alzheimer\"] = pd.to_numeric(df_deathsCausePerYear[\"Alzheimer\"], downcast=\"integer\")\n",
    "df_deathsCausePerYear[\"Circulatory\"] = pd.to_numeric(df_deathsCausePerYear[\"Circulatory\"], downcast=\"integer\")\n",
    "df_deathsCausePerYear[\"Malignant\"] = pd.to_numeric(df_deathsCausePerYear[\"Malignant\"], downcast=\"integer\")\n",
    "df_deathsCausePerYear[\"Other\"] = pd.to_numeric(df_deathsCausePerYear[\"Other\"], downcast=\"integer\")\n",
    "df_deathsCausePerYear[\"Respiratory\"] = pd.to_numeric(df_deathsCausePerYear[\"Respiratory\"], downcast=\"integer\")\n",
    "\n",
    "df_deathsCausePerYear"
   ]
  },
  {
   "cell_type": "markdown",
   "metadata": {},
   "source": [
    "We need to reverse the number of deaths so that 2020 is at the first index."
   ]
  },
  {
   "cell_type": "code",
   "execution_count": 33,
   "metadata": {},
   "outputs": [
    {
     "name": "stdout",
     "output_type": "stream",
     "text": [
      "[621419, 544754, 535206, 525012, 498712, 490130]\n",
      "[1875160, 1733834, 1722912, 1702588, 1658822, 1649122]\n",
      "[1233403, 1208100, 1207218, 1207174, 1200410, 1196044]\n",
      "[373682, 331254, 330710, 326626, 315756, 314026]\n",
      "[532261, 523500, 547714, 539684, 512122, 520298]\n"
     ]
    }
   ],
   "source": [
    "alz = []\n",
    "circ = []\n",
    "malig = []\n",
    "oth = []\n",
    "resp = []\n",
    "for item in df_deathsCausePerYear[\"Alzheimer\"]:\n",
    "    alz.insert(0,item)\n",
    "for item in df_deathsCausePerYear[\"Circulatory\"]:\n",
    "    circ.insert(0,item)\n",
    "for item in df_deathsCausePerYear[\"Malignant\"]:\n",
    "    malig.insert(0,item)\n",
    "for item in df_deathsCausePerYear[\"Other\"]:\n",
    "    oth.insert(0,item)\n",
    "for item in df_deathsCausePerYear[\"Respiratory\"]:\n",
    "    resp.insert(0,item)\n",
    "print(alz)\n",
    "print(circ)\n",
    "print(malig)\n",
    "print(oth)\n",
    "print(resp)"
   ]
  },
  {
   "cell_type": "code",
   "execution_count": 34,
   "metadata": {},
   "outputs": [],
   "source": [
    "cat_deaths_rate_df = pop_rate_df"
   ]
  },
  {
   "cell_type": "code",
   "execution_count": 35,
   "metadata": {},
   "outputs": [],
   "source": [
    "cat_deaths_rate_df = cat_deaths_rate_df.rename(columns={\"Total_Rate\":\"Death_Rate\"})"
   ]
  },
  {
   "cell_type": "markdown",
   "metadata": {},
   "source": [
    "Let's put the data of deaths into a dataframe called 'cat_deaths_rate_df'."
   ]
  },
  {
   "cell_type": "code",
   "execution_count": 36,
   "metadata": {},
   "outputs": [],
   "source": [
    "cat_deaths_rate_df[\"Alzheimer\"] = alz\n",
    "cat_deaths_rate_df[\"Circulatory\"] = circ\n",
    "cat_deaths_rate_df[\"Malignant\"] = malig\n",
    "cat_deaths_rate_df[\"Other\"] = oth\n",
    "cat_deaths_rate_df[\"Respiratory\"] = resp"
   ]
  },
  {
   "cell_type": "markdown",
   "metadata": {},
   "source": [
    "Now, we will get the rate of death per cause by dividing the number of deaths per cause per year by the number of total deaths per year and remove all of the total deaths per cause per year and total deaths per year."
   ]
  },
  {
   "cell_type": "code",
   "execution_count": 37,
   "metadata": {},
   "outputs": [
    {
     "data": {
      "text/html": [
       "<div>\n",
       "<style scoped>\n",
       "    .dataframe tbody tr th:only-of-type {\n",
       "        vertical-align: middle;\n",
       "    }\n",
       "\n",
       "    .dataframe tbody tr th {\n",
       "        vertical-align: top;\n",
       "    }\n",
       "\n",
       "    .dataframe thead th {\n",
       "        text-align: right;\n",
       "    }\n",
       "</style>\n",
       "<table border=\"1\" class=\"dataframe\">\n",
       "  <thead>\n",
       "    <tr style=\"text-align: right;\">\n",
       "      <th></th>\n",
       "      <th>Date</th>\n",
       "      <th>Population</th>\n",
       "      <th>Total_Deaths</th>\n",
       "      <th>Death_Rate</th>\n",
       "      <th>Alzheimer</th>\n",
       "      <th>Circulatory</th>\n",
       "      <th>Malignant</th>\n",
       "      <th>Other</th>\n",
       "      <th>Respiratory</th>\n",
       "      <th>Alz_Rate</th>\n",
       "      <th>Circ_Rate</th>\n",
       "      <th>Malig_Rate</th>\n",
       "      <th>Other_Rate</th>\n",
       "      <th>Resp_Rate</th>\n",
       "    </tr>\n",
       "  </thead>\n",
       "  <tbody>\n",
       "    <tr>\n",
       "      <th>1</th>\n",
       "      <td>2020</td>\n",
       "      <td>329880000</td>\n",
       "      <td>4635925</td>\n",
       "      <td>0.014053</td>\n",
       "      <td>621419</td>\n",
       "      <td>1875160</td>\n",
       "      <td>1233403</td>\n",
       "      <td>373682</td>\n",
       "      <td>532261</td>\n",
       "      <td>0.134044</td>\n",
       "      <td>0.404485</td>\n",
       "      <td>0.266053</td>\n",
       "      <td>0.080606</td>\n",
       "      <td>0.114812</td>\n",
       "    </tr>\n",
       "    <tr>\n",
       "      <th>2</th>\n",
       "      <td>2019</td>\n",
       "      <td>328240000</td>\n",
       "      <td>4341442</td>\n",
       "      <td>0.013226</td>\n",
       "      <td>544754</td>\n",
       "      <td>1733834</td>\n",
       "      <td>1208100</td>\n",
       "      <td>331254</td>\n",
       "      <td>523500</td>\n",
       "      <td>0.125478</td>\n",
       "      <td>0.399368</td>\n",
       "      <td>0.278272</td>\n",
       "      <td>0.076300</td>\n",
       "      <td>0.120582</td>\n",
       "    </tr>\n",
       "    <tr>\n",
       "      <th>3</th>\n",
       "      <td>2018</td>\n",
       "      <td>326690000</td>\n",
       "      <td>4343760</td>\n",
       "      <td>0.013296</td>\n",
       "      <td>535206</td>\n",
       "      <td>1722912</td>\n",
       "      <td>1207218</td>\n",
       "      <td>330710</td>\n",
       "      <td>547714</td>\n",
       "      <td>0.123213</td>\n",
       "      <td>0.396641</td>\n",
       "      <td>0.277920</td>\n",
       "      <td>0.076135</td>\n",
       "      <td>0.126092</td>\n",
       "    </tr>\n",
       "    <tr>\n",
       "      <th>4</th>\n",
       "      <td>2017</td>\n",
       "      <td>324990000</td>\n",
       "      <td>4301084</td>\n",
       "      <td>0.013235</td>\n",
       "      <td>525012</td>\n",
       "      <td>1702588</td>\n",
       "      <td>1207174</td>\n",
       "      <td>326626</td>\n",
       "      <td>539684</td>\n",
       "      <td>0.122065</td>\n",
       "      <td>0.395851</td>\n",
       "      <td>0.280667</td>\n",
       "      <td>0.075940</td>\n",
       "      <td>0.125476</td>\n",
       "    </tr>\n",
       "    <tr>\n",
       "      <th>5</th>\n",
       "      <td>2016</td>\n",
       "      <td>322940000</td>\n",
       "      <td>4185822</td>\n",
       "      <td>0.012962</td>\n",
       "      <td>498712</td>\n",
       "      <td>1658822</td>\n",
       "      <td>1200410</td>\n",
       "      <td>315756</td>\n",
       "      <td>512122</td>\n",
       "      <td>0.119143</td>\n",
       "      <td>0.396295</td>\n",
       "      <td>0.286780</td>\n",
       "      <td>0.075435</td>\n",
       "      <td>0.122347</td>\n",
       "    </tr>\n",
       "    <tr>\n",
       "      <th>6</th>\n",
       "      <td>2015</td>\n",
       "      <td>320640000</td>\n",
       "      <td>4169620</td>\n",
       "      <td>0.013004</td>\n",
       "      <td>490130</td>\n",
       "      <td>1649122</td>\n",
       "      <td>1196044</td>\n",
       "      <td>314026</td>\n",
       "      <td>520298</td>\n",
       "      <td>0.117548</td>\n",
       "      <td>0.395509</td>\n",
       "      <td>0.286847</td>\n",
       "      <td>0.075313</td>\n",
       "      <td>0.124783</td>\n",
       "    </tr>\n",
       "  </tbody>\n",
       "</table>\n",
       "</div>"
      ],
      "text/plain": [
       "   Date  Population  Total_Deaths  Death_Rate  Alzheimer  Circulatory  \\\n",
       "1  2020   329880000       4635925    0.014053     621419      1875160   \n",
       "2  2019   328240000       4341442    0.013226     544754      1733834   \n",
       "3  2018   326690000       4343760    0.013296     535206      1722912   \n",
       "4  2017   324990000       4301084    0.013235     525012      1702588   \n",
       "5  2016   322940000       4185822    0.012962     498712      1658822   \n",
       "6  2015   320640000       4169620    0.013004     490130      1649122   \n",
       "\n",
       "   Malignant   Other  Respiratory  Alz_Rate  Circ_Rate  Malig_Rate  \\\n",
       "1    1233403  373682       532261  0.134044   0.404485    0.266053   \n",
       "2    1208100  331254       523500  0.125478   0.399368    0.278272   \n",
       "3    1207218  330710       547714  0.123213   0.396641    0.277920   \n",
       "4    1207174  326626       539684  0.122065   0.395851    0.280667   \n",
       "5    1200410  315756       512122  0.119143   0.396295    0.286780   \n",
       "6    1196044  314026       520298  0.117548   0.395509    0.286847   \n",
       "\n",
       "   Other_Rate  Resp_Rate  \n",
       "1    0.080606   0.114812  \n",
       "2    0.076300   0.120582  \n",
       "3    0.076135   0.126092  \n",
       "4    0.075940   0.125476  \n",
       "5    0.075435   0.122347  \n",
       "6    0.075313   0.124783  "
      ]
     },
     "execution_count": 37,
     "metadata": {},
     "output_type": "execute_result"
    }
   ],
   "source": [
    "cat_deaths_rate_df[\"Alz_Rate\"] = cat_deaths_rate_df[\"Alzheimer\"]/cat_deaths_rate_df[\"Total_Deaths\"]\n",
    "cat_deaths_rate_df[\"Circ_Rate\"] = cat_deaths_rate_df[\"Circulatory\"]/cat_deaths_rate_df[\"Total_Deaths\"]\n",
    "cat_deaths_rate_df[\"Malig_Rate\"] = cat_deaths_rate_df[\"Malignant\"]/cat_deaths_rate_df[\"Total_Deaths\"]\n",
    "cat_deaths_rate_df[\"Other_Rate\"] = cat_deaths_rate_df[\"Other\"]/cat_deaths_rate_df[\"Total_Deaths\"]\n",
    "cat_deaths_rate_df[\"Resp_Rate\"] = cat_deaths_rate_df[\"Respiratory\"]/cat_deaths_rate_df[\"Total_Deaths\"]\n",
    "\n",
    "cat_deaths_rate_df"
   ]
  },
  {
   "cell_type": "code",
   "execution_count": 38,
   "metadata": {},
   "outputs": [],
   "source": [
    "cat_deaths_rate_df = cat_deaths_rate_df.drop(columns=[\"Population\", \"Total_Deaths\", \"Alzheimer\", \"Circulatory\", \"Malignant\", \"Other\", \"Respiratory\"])"
   ]
  },
  {
   "cell_type": "code",
   "execution_count": 39,
   "metadata": {},
   "outputs": [
    {
     "data": {
      "text/html": [
       "<div>\n",
       "<style scoped>\n",
       "    .dataframe tbody tr th:only-of-type {\n",
       "        vertical-align: middle;\n",
       "    }\n",
       "\n",
       "    .dataframe tbody tr th {\n",
       "        vertical-align: top;\n",
       "    }\n",
       "\n",
       "    .dataframe thead th {\n",
       "        text-align: right;\n",
       "    }\n",
       "</style>\n",
       "<table border=\"1\" class=\"dataframe\">\n",
       "  <thead>\n",
       "    <tr style=\"text-align: right;\">\n",
       "      <th></th>\n",
       "      <th>Date</th>\n",
       "      <th>Death_Rate</th>\n",
       "      <th>Alz_Rate</th>\n",
       "      <th>Circ_Rate</th>\n",
       "      <th>Malig_Rate</th>\n",
       "      <th>Other_Rate</th>\n",
       "      <th>Resp_Rate</th>\n",
       "    </tr>\n",
       "  </thead>\n",
       "  <tbody>\n",
       "    <tr>\n",
       "      <th>1</th>\n",
       "      <td>2020</td>\n",
       "      <td>0.014053</td>\n",
       "      <td>0.134044</td>\n",
       "      <td>0.404485</td>\n",
       "      <td>0.266053</td>\n",
       "      <td>0.080606</td>\n",
       "      <td>0.114812</td>\n",
       "    </tr>\n",
       "    <tr>\n",
       "      <th>2</th>\n",
       "      <td>2019</td>\n",
       "      <td>0.013226</td>\n",
       "      <td>0.125478</td>\n",
       "      <td>0.399368</td>\n",
       "      <td>0.278272</td>\n",
       "      <td>0.076300</td>\n",
       "      <td>0.120582</td>\n",
       "    </tr>\n",
       "    <tr>\n",
       "      <th>3</th>\n",
       "      <td>2018</td>\n",
       "      <td>0.013296</td>\n",
       "      <td>0.123213</td>\n",
       "      <td>0.396641</td>\n",
       "      <td>0.277920</td>\n",
       "      <td>0.076135</td>\n",
       "      <td>0.126092</td>\n",
       "    </tr>\n",
       "    <tr>\n",
       "      <th>4</th>\n",
       "      <td>2017</td>\n",
       "      <td>0.013235</td>\n",
       "      <td>0.122065</td>\n",
       "      <td>0.395851</td>\n",
       "      <td>0.280667</td>\n",
       "      <td>0.075940</td>\n",
       "      <td>0.125476</td>\n",
       "    </tr>\n",
       "    <tr>\n",
       "      <th>5</th>\n",
       "      <td>2016</td>\n",
       "      <td>0.012962</td>\n",
       "      <td>0.119143</td>\n",
       "      <td>0.396295</td>\n",
       "      <td>0.286780</td>\n",
       "      <td>0.075435</td>\n",
       "      <td>0.122347</td>\n",
       "    </tr>\n",
       "    <tr>\n",
       "      <th>6</th>\n",
       "      <td>2015</td>\n",
       "      <td>0.013004</td>\n",
       "      <td>0.117548</td>\n",
       "      <td>0.395509</td>\n",
       "      <td>0.286847</td>\n",
       "      <td>0.075313</td>\n",
       "      <td>0.124783</td>\n",
       "    </tr>\n",
       "  </tbody>\n",
       "</table>\n",
       "</div>"
      ],
      "text/plain": [
       "   Date  Death_Rate  Alz_Rate  Circ_Rate  Malig_Rate  Other_Rate  Resp_Rate\n",
       "1  2020    0.014053  0.134044   0.404485    0.266053    0.080606   0.114812\n",
       "2  2019    0.013226  0.125478   0.399368    0.278272    0.076300   0.120582\n",
       "3  2018    0.013296  0.123213   0.396641    0.277920    0.076135   0.126092\n",
       "4  2017    0.013235  0.122065   0.395851    0.280667    0.075940   0.125476\n",
       "5  2016    0.012962  0.119143   0.396295    0.286780    0.075435   0.122347\n",
       "6  2015    0.013004  0.117548   0.395509    0.286847    0.075313   0.124783"
      ]
     },
     "execution_count": 39,
     "metadata": {},
     "output_type": "execute_result"
    }
   ],
   "source": [
    "cat_deaths_rate_df"
   ]
  },
  {
   "cell_type": "markdown",
   "metadata": {},
   "source": [
    "Below is the population, total deaths, and total rate dataframe."
   ]
  },
  {
   "cell_type": "code",
   "execution_count": 40,
   "metadata": {},
   "outputs": [
    {
     "data": {
      "text/html": [
       "<div>\n",
       "<style scoped>\n",
       "    .dataframe tbody tr th:only-of-type {\n",
       "        vertical-align: middle;\n",
       "    }\n",
       "\n",
       "    .dataframe tbody tr th {\n",
       "        vertical-align: top;\n",
       "    }\n",
       "\n",
       "    .dataframe thead th {\n",
       "        text-align: right;\n",
       "    }\n",
       "</style>\n",
       "<table border=\"1\" class=\"dataframe\">\n",
       "  <thead>\n",
       "    <tr style=\"text-align: right;\">\n",
       "      <th></th>\n",
       "      <th>Date</th>\n",
       "      <th>Population</th>\n",
       "      <th>Total_Deaths</th>\n",
       "      <th>Total_Rate</th>\n",
       "    </tr>\n",
       "  </thead>\n",
       "  <tbody>\n",
       "    <tr>\n",
       "      <th>1</th>\n",
       "      <td>2020</td>\n",
       "      <td>329880000</td>\n",
       "      <td>4635925</td>\n",
       "      <td>0.014053</td>\n",
       "    </tr>\n",
       "    <tr>\n",
       "      <th>2</th>\n",
       "      <td>2019</td>\n",
       "      <td>328240000</td>\n",
       "      <td>4341442</td>\n",
       "      <td>0.013226</td>\n",
       "    </tr>\n",
       "    <tr>\n",
       "      <th>3</th>\n",
       "      <td>2018</td>\n",
       "      <td>326690000</td>\n",
       "      <td>4343760</td>\n",
       "      <td>0.013296</td>\n",
       "    </tr>\n",
       "    <tr>\n",
       "      <th>4</th>\n",
       "      <td>2017</td>\n",
       "      <td>324990000</td>\n",
       "      <td>4301084</td>\n",
       "      <td>0.013235</td>\n",
       "    </tr>\n",
       "    <tr>\n",
       "      <th>5</th>\n",
       "      <td>2016</td>\n",
       "      <td>322940000</td>\n",
       "      <td>4185822</td>\n",
       "      <td>0.012962</td>\n",
       "    </tr>\n",
       "    <tr>\n",
       "      <th>6</th>\n",
       "      <td>2015</td>\n",
       "      <td>320640000</td>\n",
       "      <td>4169620</td>\n",
       "      <td>0.013004</td>\n",
       "    </tr>\n",
       "  </tbody>\n",
       "</table>\n",
       "</div>"
      ],
      "text/plain": [
       "   Date  Population  Total_Deaths  Total_Rate\n",
       "1  2020   329880000       4635925    0.014053\n",
       "2  2019   328240000       4341442    0.013226\n",
       "3  2018   326690000       4343760    0.013296\n",
       "4  2017   324990000       4301084    0.013235\n",
       "5  2016   322940000       4185822    0.012962\n",
       "6  2015   320640000       4169620    0.013004"
      ]
     },
     "execution_count": 40,
     "metadata": {},
     "output_type": "execute_result"
    }
   ],
   "source": [
    "pop_rate_df"
   ]
  },
  {
   "cell_type": "markdown",
   "metadata": {},
   "source": [
    "Let's plot the cause of deaths per year."
   ]
  },
  {
   "cell_type": "code",
   "execution_count": 41,
   "metadata": {
    "scrolled": true
   },
   "outputs": [
    {
     "data": {
      "image/png": "[encoded data removed]",
      "text/plain": [
       "<Figure size 720x360 with 1 Axes>"
      ]
     },
     "metadata": {
      "needs_background": "light"
     },
     "output_type": "display_data"
    }
   ],
   "source": [
    "fig = plt.gcf()\n",
    "fig.set_size_inches(10, 5)\n",
    "plt.plot(\"Date\", \"Alz_Rate\", data=cat_deaths_rate_df)\n",
    "plt.plot(\"Date\", \"Circ_Rate\", data=cat_deaths_rate_df)\n",
    "plt.plot(\"Date\", \"Malig_Rate\", data=cat_deaths_rate_df)\n",
    "plt.plot(\"Date\", \"Other_Rate\", data=cat_deaths_rate_df)\n",
    "plt.plot(\"Date\", \"Resp_Rate\", data=cat_deaths_rate_df)\n",
    "plt.title(\"Cause of deaths per year\", size = 22)\n",
    "plt.xlabel(\"Year\", size = 18)\n",
    "plt.ylabel(\"Death Rate\", size = 18)\n",
    "plt.xticks(rotation = 45)\n",
    "plt.yticks(rotation = 45)\n",
    "plt.legend()\n",
    "plt.show()"
   ]
  },
  {
   "cell_type": "markdown",
   "metadata": {},
   "source": [
    "Now, let's plot the total deaths per year with a barplot."
   ]
  },
  {
   "cell_type": "code",
   "execution_count": 42,
   "metadata": {},
   "outputs": [
    {
     "data": {
      "text/html": [
       "<div>\n",
       "<style scoped>\n",
       "    .dataframe tbody tr th:only-of-type {\n",
       "        vertical-align: middle;\n",
       "    }\n",
       "\n",
       "    .dataframe tbody tr th {\n",
       "        vertical-align: top;\n",
       "    }\n",
       "\n",
       "    .dataframe thead th {\n",
       "        text-align: right;\n",
       "    }\n",
       "</style>\n",
       "<table border=\"1\" class=\"dataframe\">\n",
       "  <thead>\n",
       "    <tr style=\"text-align: right;\">\n",
       "      <th></th>\n",
       "      <th>Date</th>\n",
       "      <th>Population</th>\n",
       "      <th>Total_Deaths</th>\n",
       "      <th>Total_Rate</th>\n",
       "    </tr>\n",
       "  </thead>\n",
       "  <tbody>\n",
       "    <tr>\n",
       "      <th>1</th>\n",
       "      <td>2020</td>\n",
       "      <td>329880000</td>\n",
       "      <td>4635925</td>\n",
       "      <td>0.014053</td>\n",
       "    </tr>\n",
       "    <tr>\n",
       "      <th>2</th>\n",
       "      <td>2019</td>\n",
       "      <td>328240000</td>\n",
       "      <td>4341442</td>\n",
       "      <td>0.013226</td>\n",
       "    </tr>\n",
       "    <tr>\n",
       "      <th>3</th>\n",
       "      <td>2018</td>\n",
       "      <td>326690000</td>\n",
       "      <td>4343760</td>\n",
       "      <td>0.013296</td>\n",
       "    </tr>\n",
       "    <tr>\n",
       "      <th>4</th>\n",
       "      <td>2017</td>\n",
       "      <td>324990000</td>\n",
       "      <td>4301084</td>\n",
       "      <td>0.013235</td>\n",
       "    </tr>\n",
       "    <tr>\n",
       "      <th>5</th>\n",
       "      <td>2016</td>\n",
       "      <td>322940000</td>\n",
       "      <td>4185822</td>\n",
       "      <td>0.012962</td>\n",
       "    </tr>\n",
       "    <tr>\n",
       "      <th>6</th>\n",
       "      <td>2015</td>\n",
       "      <td>320640000</td>\n",
       "      <td>4169620</td>\n",
       "      <td>0.013004</td>\n",
       "    </tr>\n",
       "  </tbody>\n",
       "</table>\n",
       "</div>"
      ],
      "text/plain": [
       "   Date  Population  Total_Deaths  Total_Rate\n",
       "1  2020   329880000       4635925    0.014053\n",
       "2  2019   328240000       4341442    0.013226\n",
       "3  2018   326690000       4343760    0.013296\n",
       "4  2017   324990000       4301084    0.013235\n",
       "5  2016   322940000       4185822    0.012962\n",
       "6  2015   320640000       4169620    0.013004"
      ]
     },
     "execution_count": 42,
     "metadata": {},
     "output_type": "execute_result"
    }
   ],
   "source": [
    "pop_rate_df"
   ]
  },
  {
   "cell_type": "code",
   "execution_count": 43,
   "metadata": {},
   "outputs": [
    {
     "data": {
      "image/png": "[encoded data removed]",
      "text/plain": [
       "<Figure size 360x360 with 1 Axes>"
      ]
     },
     "metadata": {
      "needs_background": "light"
     },
     "output_type": "display_data"
    }
   ],
   "source": [
    "sns.catplot(x=\"Date\", y=\"Total_Rate\", kind=\"bar\", data=pop_rate_df)\n",
    "plt.title(\"Total Deaths Per Year\", size=18)\n",
    "plt.xlabel(\"Year\", size=18)\n",
    "plt.ylabel(\"Deaths\", size=18)\n",
    "plt.xticks(rotation=45)\n",
    "plt.yticks(rotation=45)\n",
    "plt.show()"
   ]
  },
  {
   "cell_type": "markdown",
   "metadata": {},
   "source": [
    "## Conclusion"
   ]
  },
  {
   "cell_type": "markdown",
   "metadata": {},
   "source": [
    "The total death rate per population for every year starting with 2015 and ending with 2020 is 0.013004, 0.012962, 0.013235, 0.013296, 0.013226, and 0.014053 which is not a significant difference.\n"
   ]
  },
  {
   "cell_type": "markdown",
   "metadata": {},
   "source": [
    "The death rate per cause is about the same for every year for every cause so there is no significant difference."
   ]
  },
  {
   "cell_type": "markdown",
   "metadata": {},
   "source": [
    "The line graph indicates a clear picture that there is no significant difference in causes of death per year with circulatory being the leading cause of death and malignant being the second highest cause of death. Alzheimer and respiratory are about the same."
   ]
  },
  {
   "cell_type": "markdown",
   "metadata": {},
   "source": [
    "The barplot indicates that there is no significant difference in deaths per year."
   ]
  }
 ],
 "metadata": {
  "kernelspec": {
   "display_name": "Python 3",
   "language": "python",
   "name": "python3"
  },
  "language_info": {
   "codemirror_mode": {
    "name": "ipython",
    "version": 3
   },
   "file_extension": ".py",
   "mimetype": "text/x-python",
   "name": "python",
   "nbconvert_exporter": "python",
   "pygments_lexer": "ipython3",
   "version": "3.8.5"
  }
 },
 "nbformat": 4,
 "nbformat_minor": 4
}
