{
 "cells": [
  {
   "cell_type": "code",
   "execution_count": 1,
   "metadata": {},
   "outputs": [],
   "source": [
    "import numpy as np\n",
    "import pandas as pd\n",
    "import matplotlib.pyplot as plt\n",
    "import seaborn as sns\n",
    "from sklearn.preprocessing import StandardScaler\n",
    "from sklearn.model_selection import train_test_split\n",
    "from sklearn.linear_model import LinearRegression\n",
    "from sklearn.linear_model import Lasso\n",
    "from sklearn.linear_model import Ridge\n",
    "from sklearn.metrics import mean_squared_error"
   ]
  },
  {
   "cell_type": "code",
   "execution_count": 2,
   "metadata": {},
   "outputs": [
    {
     "data": {
      "text/html": [
       "<div>\n",
       "<style scoped>\n",
       "    .dataframe tbody tr th:only-of-type {\n",
       "        vertical-align: middle;\n",
       "    }\n",
       "\n",
       "    .dataframe tbody tr th {\n",
       "        vertical-align: top;\n",
       "    }\n",
       "\n",
       "    .dataframe thead th {\n",
       "        text-align: right;\n",
       "    }\n",
       "</style>\n",
       "<table border=\"1\" class=\"dataframe\">\n",
       "  <thead>\n",
       "    <tr style=\"text-align: right;\">\n",
       "      <th></th>\n",
       "      <th>house_age</th>\n",
       "      <th>distance_to_the_nearest_MRT_station</th>\n",
       "      <th>number_of_convenience_stores</th>\n",
       "      <th>latitude</th>\n",
       "      <th>longitude</th>\n",
       "      <th>house_price_of_unit_area</th>\n",
       "    </tr>\n",
       "  </thead>\n",
       "  <tbody>\n",
       "    <tr>\n",
       "      <th>0</th>\n",
       "      <td>32.0</td>\n",
       "      <td>84.87882</td>\n",
       "      <td>10</td>\n",
       "      <td>24.98298</td>\n",
       "      <td>121.54024</td>\n",
       "      <td>37.9</td>\n",
       "    </tr>\n",
       "    <tr>\n",
       "      <th>1</th>\n",
       "      <td>19.5</td>\n",
       "      <td>306.59470</td>\n",
       "      <td>9</td>\n",
       "      <td>24.98034</td>\n",
       "      <td>121.53951</td>\n",
       "      <td>42.2</td>\n",
       "    </tr>\n",
       "    <tr>\n",
       "      <th>2</th>\n",
       "      <td>13.3</td>\n",
       "      <td>561.98450</td>\n",
       "      <td>5</td>\n",
       "      <td>24.98746</td>\n",
       "      <td>121.54391</td>\n",
       "      <td>47.3</td>\n",
       "    </tr>\n",
       "    <tr>\n",
       "      <th>3</th>\n",
       "      <td>13.3</td>\n",
       "      <td>561.98450</td>\n",
       "      <td>5</td>\n",
       "      <td>24.98746</td>\n",
       "      <td>121.54391</td>\n",
       "      <td>54.8</td>\n",
       "    </tr>\n",
       "    <tr>\n",
       "      <th>4</th>\n",
       "      <td>5.0</td>\n",
       "      <td>390.56840</td>\n",
       "      <td>5</td>\n",
       "      <td>24.97937</td>\n",
       "      <td>121.54245</td>\n",
       "      <td>43.1</td>\n",
       "    </tr>\n",
       "  </tbody>\n",
       "</table>\n",
       "</div>"
      ],
      "text/plain": [
       "   house_age  distance_to_the_nearest_MRT_station  \\\n",
       "0       32.0                             84.87882   \n",
       "1       19.5                            306.59470   \n",
       "2       13.3                            561.98450   \n",
       "3       13.3                            561.98450   \n",
       "4        5.0                            390.56840   \n",
       "\n",
       "   number_of_convenience_stores  latitude  longitude  house_price_of_unit_area  \n",
       "0                            10  24.98298  121.54024                      37.9  \n",
       "1                             9  24.98034  121.53951                      42.2  \n",
       "2                             5  24.98746  121.54391                      47.3  \n",
       "3                             5  24.98746  121.54391                      54.8  \n",
       "4                             5  24.97937  121.54245                      43.1  "
      ]
     },
     "execution_count": 2,
     "metadata": {},
     "output_type": "execute_result"
    }
   ],
   "source": [
    "data = pd.read_csv(\"real_estate.csv\").iloc[:,2:]\n",
    "data.columns = [\"house_age\", \"distance_to_the_nearest_MRT_station\", \"number_of_convenience_stores\",\n",
    "               \"latitude\", \"longitude\", \"house_price_of_unit_area\"]\n",
    "data.head()"
   ]
  },
  {
   "cell_type": "markdown",
   "metadata": {},
   "source": [
    "Let's scale the data with the StandardScaler from SKLearn."
   ]
  },
  {
   "cell_type": "code",
   "execution_count": 3,
   "metadata": {},
   "outputs": [],
   "source": [
    "scaler = StandardScaler()\n",
    "scaled_data = scaler.fit_transform(data)\n",
    "X = scaled_data[:,:-1]\n",
    "y = scaled_data[:,-1]"
   ]
  },
  {
   "cell_type": "markdown",
   "metadata": {},
   "source": [
    "Let's split the data into a training and testing set."
   ]
  },
  {
   "cell_type": "code",
   "execution_count": 4,
   "metadata": {},
   "outputs": [],
   "source": [
    "X_train, X_test, y_train, y_test = train_test_split(X, y, test_size=0.3)"
   ]
  },
  {
   "cell_type": "code",
   "execution_count": 5,
   "metadata": {},
   "outputs": [
    {
     "name": "stdout",
     "output_type": "stream",
     "text": [
      "training MSE:\t0.38451438153876344\n",
      "testing MSE:\t0.5380958123908647\n"
     ]
    }
   ],
   "source": [
    "# Ordinary Least Squares Regression\n",
    "reg = LinearRegression().fit(X_train, y_train)\n",
    "preds_train = reg.predict(X_train)\n",
    "preds_test = reg.predict(X_test)\n",
    "\n",
    "print(f\"training MSE:\\t{mean_squared_error(y_train, preds_train)}\")\n",
    "print(f\"testing MSE:\\t{mean_squared_error(y_test, preds_test)}\")"
   ]
  },
  {
   "cell_type": "code",
   "execution_count": 6,
   "metadata": {},
   "outputs": [
    {
     "name": "stdout",
     "output_type": "stream",
     "text": [
      "lasso training MSE:\t0.9563901744750247\n",
      "lasso testing MSE:\t1.1009462715359877\n"
     ]
    }
   ],
   "source": [
    "# Lasso Regression\n",
    "lasso = Lasso().fit(X_train, y_train)\n",
    "lasso_preds_train = lasso.predict(X_train)\n",
    "lasso_preds_test = lasso.predict(X_test)\n",
    "\n",
    "print(f\"lasso training MSE:\\t{mean_squared_error(y_train, lasso_preds_train)}\")\n",
    "print(f\"lasso testing MSE:\\t{mean_squared_error(y_test, lasso_preds_test)}\")"
   ]
  },
  {
   "cell_type": "code",
   "execution_count": 7,
   "metadata": {},
   "outputs": [
    {
     "name": "stdout",
     "output_type": "stream",
     "text": [
      "ridge training MSE:\t0.384523383238431\n",
      "ridge testing MSE:\t0.5375804402970126\n"
     ]
    }
   ],
   "source": [
    "# Ridge Regression\n",
    "ridge = Ridge().fit(X_train, y_train)\n",
    "ridge_preds_train = ridge.predict(X_train)\n",
    "ridge_preds_test = ridge.predict(X_test)\n",
    "\n",
    "print(f\"ridge training MSE:\\t{mean_squared_error(y_train, ridge_preds_train)}\")\n",
    "print(f\"ridge testing MSE:\\t{mean_squared_error(y_test, ridge_preds_test)}\")"
   ]
  },
  {
   "cell_type": "markdown",
   "metadata": {},
   "source": [
    "Hyperparameter Tuning Lasso and Ridge"
   ]
  },
  {
   "cell_type": "code",
   "execution_count": 8,
   "metadata": {},
   "outputs": [],
   "source": [
    "# lasso and ridge alpha tuning\n",
    "lasso_train_MSE = []\n",
    "lasso_test_MSE = []\n",
    "ridge_train_MSE = []\n",
    "ridge_test_MSE = []\n",
    "min_lasso_train_MSE = 10000\n",
    "min_lasso_test_MSE = 10000\n",
    "best_lasso_train_alpha = 0\n",
    "best_lasso_test_alpha = 0\n",
    "min_ridge_train_MSE = 10000\n",
    "min_ridge_test_MSE = 10000\n",
    "best_ridge_train_alpha = 0\n",
    "best_ridge_test_alpha = 0\n",
    "alphas = []\n",
    "for i in range(1,200):\n",
    "    lasso = Lasso(alpha=i).fit(X_train, y_train)\n",
    "    lasso_train_predicts = lasso.predict(X_train)\n",
    "    lasso_test_predicts = lasso.predict(X_test)\n",
    "    lasso_train_MSE_value = mean_squared_error(y_train, lasso_train_predicts)\n",
    "    lasso_train_MSE.append(lasso_train_MSE_value)\n",
    "    lasso_test_MSE_value = mean_squared_error(y_test, lasso_test_predicts)\n",
    "    lasso_test_MSE.append(lasso_test_MSE_value)\n",
    "    \n",
    "    ridge = Ridge(alpha=i).fit(X_train, y_train)\n",
    "    ridge_train_predicts = ridge.predict(X_train)\n",
    "    ridge_test_predicts = ridge.predict(X_test)\n",
    "    ridge_train_MSE_value = mean_squared_error(y_train, ridge_train_predicts)\n",
    "    ridge_train_MSE.append(ridge_train_MSE_value)\n",
    "    ridge_test_MSE_value = mean_squared_error(y_test, ridge_test_predicts)\n",
    "    ridge_test_MSE.append(ridge_test_MSE_value)\n",
    "    \n",
    "    if lasso_train_MSE_value < min_lasso_train_MSE:\n",
    "        min_lasso_train_MSE = lasso_train_MSE_value\n",
    "        best_lasso_train_alpha = i\n",
    "    \n",
    "    if lasso_test_MSE_value < min_lasso_test_MSE:\n",
    "        min_lasso_test_MSE = lasso_test_MSE_value\n",
    "        best_lasso_test_alpha = i\n",
    "    \n",
    "    if ridge_train_MSE_value < min_ridge_train_MSE:\n",
    "        min_ridge_train_MSE = ridge_train_MSE_value\n",
    "        best_ridge_train_alpha = i\n",
    "    \n",
    "    if ridge_test_MSE_value < min_ridge_test_MSE:\n",
    "        min_ridge_test_MSE = ridge_test_MSE_value\n",
    "        best_ridge_test_alpha = i\n",
    "        \n",
    "    alphas.append(i)\n",
    "\n",
    "df = pd.DataFrame({\"alpha\":alphas, \"lasso_train_MSE\":lasso_train_MSE,\n",
    "                   \"lasso_test_MSE\":lasso_test_MSE, \"ridge_train_MSE\":ridge_train_MSE,\n",
    "                   \"ridge_test_MSE\":ridge_test_MSE})"
   ]
  },
  {
   "cell_type": "code",
   "execution_count": 9,
   "metadata": {},
   "outputs": [
    {
     "data": {
      "image/png": "[encoded data removed]",
      "text/plain": [
       "<Figure size 720x504 with 4 Axes>"
      ]
     },
     "metadata": {
      "needs_background": "light"
     },
     "output_type": "display_data"
    }
   ],
   "source": [
    "fig, ax = plt.subplots(2, 2, figsize=(10,7))\n",
    "sns.lineplot(ax=ax[0][0] ,x=\"alpha\", y=\"lasso_train_MSE\", data=df)\n",
    "sns.lineplot(ax=ax[0][1] ,x=\"alpha\", y=\"lasso_test_MSE\", data=df)\n",
    "sns.lineplot(ax=ax[1][0] ,x=\"alpha\", y=\"ridge_train_MSE\", data=df)\n",
    "sns.lineplot(ax=ax[1][1] ,x=\"alpha\", y=\"ridge_test_MSE\", data=df)\n",
    "ax[0][0].title.set_text(\"lasso train MSE vs alpha\")\n",
    "ax[0][1].title.set_text(\"lasso test MSE vs alpha\")\n",
    "ax[1][0].title.set_text(\"ridge train MSE vs alpha\")\n",
    "ax[1][1].title.set_text(\"ridge test MSE vs alpha\")\n",
    "plt.suptitle(\"Line Plots of MSE\")\n",
    "plt.tight_layout()"
   ]
  },
  {
   "cell_type": "code",
   "execution_count": 10,
   "metadata": {},
   "outputs": [
    {
     "name": "stdout",
     "output_type": "stream",
     "text": [
      "Best Lasso Training Alpha:\t1\n",
      "Best Lasso Testing Alpha:\t1\n",
      "Best Ridge Training Alpha:\t1\n",
      "Best Ridge Testing Alpha:\t31\n"
     ]
    }
   ],
   "source": [
    "print(f\"Best Lasso Training Alpha:\\t{best_lasso_train_alpha}\")\n",
    "print(f\"Best Lasso Testing Alpha:\\t{best_lasso_test_alpha}\")\n",
    "print(f\"Best Ridge Training Alpha:\\t{best_ridge_train_alpha}\")\n",
    "print(f\"Best Ridge Testing Alpha:\\t{best_ridge_test_alpha}\")"
   ]
  },
  {
   "cell_type": "markdown",
   "metadata": {},
   "source": [
    "### Conclusion"
   ]
  },
  {
   "cell_type": "markdown",
   "metadata": {},
   "source": [
    "* The MSE did not change for Lasso Regression when tuning alpha.\n",
    "* The alpha value for Ridge Regression does affect the MSE.\n",
    "* The MSE for Ordinary Least Squares Regression was almost identical to the MSE for Ridge Regression.\n",
    "\n",
    "In conclusion, linear regression is a good method for predicting the house price of unit area based on other vaiables. The best linear regression method discussed in this analysis is about the same between Ordinary Least Squares Regression and Ridge Regression."
   ]
  }
 ],
 "metadata": {
  "kernelspec": {
   "display_name": "Python 3",
   "language": "python",
   "name": "python3"
  },
  "language_info": {
   "codemirror_mode": {
    "name": "ipython",
    "version": 3
   },
   "file_extension": ".py",
   "mimetype": "text/x-python",
   "name": "python",
   "nbconvert_exporter": "python",
   "pygments_lexer": "ipython3",
   "version": "3.8.5"
  }
 },
 "nbformat": 4,
 "nbformat_minor": 4
}
